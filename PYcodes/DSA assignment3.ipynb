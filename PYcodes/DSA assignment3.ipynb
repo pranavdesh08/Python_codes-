{
 "cells": [
  {
   "cell_type": "code",
   "execution_count": 64,
   "metadata": {},
   "outputs": [
    {
     "data": {
      "text/plain": [
       "(22, 2)"
      ]
     },
     "execution_count": 64,
     "metadata": {},
     "output_type": "execute_result"
    }
   ],
   "source": [
    "# question 1.\n",
    "\n",
    "def binarysearch(a,key):\n",
    "# n is length of the list/array.    \n",
    "    n=len(a)\n",
    "# l is the index of first element.    \n",
    "    l=0\n",
    "# h is the index of the last object.    \n",
    "    h=n-1\n",
    "    \n",
    "# while loop will execute till l is less than equal to h.\n",
    "    while l<=h:\n",
    "# m is the index of the middle element.\n",
    "# as we need the floor value int is used.\n",
    "        m= int((l + h)/2)\n",
    "# a[m] gives the element at index m.    \n",
    "        if a[m]==key:\n",
    "            return a[m],m \n",
    "        if a[m]>key:\n",
    "            h=m-1\n",
    "        else :\n",
    "            l=m+1\n",
    "        if l>h :\n",
    "            return ('not found')\n",
    "        \n",
    "a=[8,12,22,45,88,99]\n",
    "key=22\n",
    "binarysearch(a,key)\n",
    "        "
   ]
  },
  {
   "cell_type": "code",
   "execution_count": 57,
   "metadata": {},
   "outputs": [
    {
     "name": "stdout",
     "output_type": "stream",
     "text": [
      "9721\n",
      "5753\n"
     ]
    }
   ],
   "source": [
    "#Question 2\n",
    "lett_num={'a':2,'b':3,'c':4,'d':5,'e':6,'f':7,'g':8,'h':9,'i':10,'j':11,'k':12,'l':13,'m':14,'n':15,'o':16,'p':17,'q':18,\n",
    "         'r':19,'s':20,'t':21,'u':22,'v':23,'w':24,'x':25,'y':26,'z':27,' ':28}\n",
    "num_lett={2:'a',3:'b',4:'c',5:'d',6:'e',7:'f',8:'g',9:'h',10:'i',11:'j',12:'k',13:'l',14:'m',15:'n',16:'o',17:'p',18:'q',\n",
    "         19:'r',20:'s',21:'t',22:'u',23:'v',24:'w',25:'x',26:'y',27:'z',28:' '}\n",
    "p_prime_alice= 97\n",
    "q_prime_alice=113\n",
    "p_prime_bob= 127\n",
    "q_prime_bob= 73\n",
    "\n",
    "n_alice= p_prime_alice * q_prime_alice\n",
    "n_bob= p_prime_bob * q_prime_bob\n",
    "# print(n_bob)\n",
    "# print(n_alice)\n",
    "euler_alice= (p_prime_alice - 1) * (q_prime_alice - 1)\n",
    "# print(euler_alice)\n",
    "euler_bob= (p_prime_bob - 1) * (q_prime_bob - 1)\n",
    "# print(euler_bob)\n",
    "\n",
    "public_alice= 73\n",
    "public_bob= 41\n",
    "\n",
    "#to find PRIVATE keys for bob and alice\n",
    "\n",
    "def extended_gcd(m,n):\n",
    "    if n==0:\n",
    "        return (1,0,m)\n",
    "    if n==1:\n",
    "        return (0,1,1)\n",
    "    Q=[]\n",
    "    d=1\n",
    "    a=m \n",
    "    b=n\n",
    "    while True:\n",
    "        r= a % b\n",
    "        quo= a / b\n",
    "        Q.append(int(quo))\n",
    "        if r==0:\n",
    "            d=b\n",
    "            \n",
    "            break\n",
    "        tmp=b\n",
    "        b= a%b\n",
    "        a=tmp\n",
    "    x=1\n",
    "    y=0 \n",
    "    s= len(Q)\n",
    "    for i in range(s):\n",
    "        tmp=y\n",
    "        y=x-y* Q.pop()\n",
    "        x=tmp\n",
    "    \n",
    "    if y<0:\n",
    "        y= m+y\n",
    "    return(y)    \n",
    "\n",
    "alice_secret=extended_gcd(euler_alice,public_alice)\n",
    "print(alice_secret)\n",
    "\n",
    "bob_secret=extended_gcd(euler_bob,public_bob)\n",
    "print(bob_secret)\n",
    "\n",
    "    "
   ]
  },
  {
   "cell_type": "code",
   "execution_count": 58,
   "metadata": {},
   "outputs": [
    {
     "name": "stdout",
     "output_type": "stream",
     "text": [
      "['b', 'u', 'y', ' ', 'g', 'o', 'o', 'g', 'l', 'e']\n",
      "08346045480769402137011590127801278011590853008491\n"
     ]
    }
   ],
   "source": [
    "#encrypt the message sent by bob using bob's secret key\n",
    "x='buy google'\n",
    "# y='bob'\n",
    "c=[]\n",
    "#concat=''\n",
    "def encode(x,c):\n",
    "    for i in x:\n",
    "        c.append(i)\n",
    "    print(c)  \n",
    "    concat=''\n",
    "    for letter in c:\n",
    "        l=lett_num[letter]\n",
    "        message= str(l**bob_secret % n_bob)\n",
    "        if(len(message)!= 5):\n",
    "            for a in range(5-len(message)):\n",
    "                message = '0' + message\n",
    "        concat += str(message)\n",
    "    return concat\n",
    "\n",
    "\n",
    "#         print(concat)        \n",
    "encode1=encode(x,c)\n",
    "print(encode1)"
   ]
  },
  {
   "cell_type": "code",
   "execution_count": 59,
   "metadata": {},
   "outputs": [
    {
     "name": "stdout",
     "output_type": "stream",
     "text": [
      "008700816400870\n"
     ]
    }
   ],
   "source": [
    "#bob add is signature or name using alice's public key\n",
    "z=[]\n",
    "x1='bob'\n",
    "def encodesign(x1,z):\n",
    "    for i in x1:\n",
    "        z.append(i) \n",
    "    concat=''\n",
    "    for letter in z:\n",
    "        l=lett_num[letter]\n",
    "        message= str(l**public_alice % n_alice)\n",
    "        if(len(message)!= 5):\n",
    "            for a in range(5-len(message)):\n",
    "                message = '0' + message\n",
    "        concat += str(message)\n",
    "    return concat\n",
    "    \n",
    "encode2=encodesign(x1,z)\n",
    "print(encode2)"
   ]
  },
  {
   "cell_type": "code",
   "execution_count": 60,
   "metadata": {},
   "outputs": [
    {
     "name": "stdout",
     "output_type": "stream",
     "text": [
      "08346045480769402137011590127801278011590853008491008700816400870\n"
     ]
    }
   ],
   "source": [
    "#message along with the signature\n",
    "encode_message_with_bob_sign= encode1 + encode2\n",
    "print(encode_message_with_bob_sign)"
   ]
  },
  {
   "cell_type": "code",
   "execution_count": 61,
   "metadata": {},
   "outputs": [
    {
     "name": "stdout",
     "output_type": "stream",
     "text": [
      "['08346', '04548', '07694', '02137', '01159', '01278', '01278', '01159', '08530', '08491', '00870', '08164', '00870']\n"
     ]
    }
   ],
   "source": [
    "a=len(str(encode_message_with_bob_sign))\n",
    "j=5\n",
    "i=0\n",
    "d=[]\n",
    "while a>0:\n",
    "    x=encode_message_with_bob_sign[i:j]\n",
    "    d.append(x)\n",
    "    j+=5\n",
    "    i+=5\n",
    "    a-=5\n",
    "print(d)  "
   ]
  },
  {
   "cell_type": "code",
   "execution_count": 62,
   "metadata": {},
   "outputs": [
    {
     "name": "stdout",
     "output_type": "stream",
     "text": [
      "b\n",
      "o\n",
      "b\n"
     ]
    }
   ],
   "source": [
    "#alice using her private key to see the message\n",
    "c=0\n",
    "for i in reversed(d):\n",
    "    i=int(i)\n",
    "    decode_letter=i**alice_secret % n_alice\n",
    "    print(num_lett[decode_letter])\n",
    "    c+=1\n",
    "    if c==3:\n",
    "        break"
   ]
  },
  {
   "cell_type": "code",
   "execution_count": 63,
   "metadata": {},
   "outputs": [
    {
     "name": "stdout",
     "output_type": "stream",
     "text": [
      "b\n",
      "u\n",
      "y\n",
      " \n",
      "g\n",
      "o\n",
      "o\n",
      "g\n",
      "l\n",
      "e\n"
     ]
    }
   ],
   "source": [
    "#after seeing the message is from bob she uses bob's public key to read the message\n",
    "n=0\n",
    "for i in d:\n",
    "    i=int(i)\n",
    "    decode_letter=i**public_bob % n_bob\n",
    "#     print(decode_letter)\n",
    "    print(num_lett[decode_letter])\n",
    "    n+=1\n",
    "    if n==10:\n",
    "        break\n",
    "    "
   ]
  },
  {
   "cell_type": "code",
   "execution_count": null,
   "metadata": {},
   "outputs": [],
   "source": []
  },
  {
   "cell_type": "code",
   "execution_count": null,
   "metadata": {},
   "outputs": [],
   "source": []
  },
  {
   "cell_type": "code",
   "execution_count": null,
   "metadata": {},
   "outputs": [],
   "source": []
  },
  {
   "cell_type": "code",
   "execution_count": null,
   "metadata": {},
   "outputs": [],
   "source": []
  },
  {
   "cell_type": "code",
   "execution_count": 1,
   "metadata": {},
   "outputs": [],
   "source": [
    "#Question 5\n",
    "def hashf1(k,A,m):\n",
    "    \n",
    "    hash_k= int(m*(k*A % 1))\n",
    "    return hash_k\n"
   ]
  },
  {
   "cell_type": "code",
   "execution_count": 2,
   "metadata": {},
   "outputs": [],
   "source": [
    "def hashf2(k,A,m):\n",
    "    hash2_k= k%m\n",
    "    return hash2_k\n"
   ]
  },
  {
   "cell_type": "code",
   "execution_count": 3,
   "metadata": {},
   "outputs": [],
   "source": [
    "import random\n",
    "keys=random.sample(range(0,9999),100)\n",
    "import statistics\n",
    "import matplotlib.pyplot as plt"
   ]
  },
  {
   "cell_type": "code",
   "execution_count": 4,
   "metadata": {},
   "outputs": [],
   "source": [
    "\n",
    "\n",
    "\n",
    "def hashit(keys,A,m,method):\n",
    "    list_hash=[]\n",
    "    hash_table=[0] * m\n",
    "    for i in range(m):\n",
    "        hash_table[i] = []\n",
    "    for i in keys:\n",
    "#         print(i)\n",
    "        list_hash.append(method(i,A,m))  #hashf1\n",
    "        \n",
    "    for j in range(len(keys)):\n",
    "        \n",
    "        hash_table[list_hash[j]].append(keys[j])\n",
    "        \n",
    "            \n",
    "    print('list of hashed key values:',list_hash)\n",
    "    print('------------------------------------------------------------')\n",
    "    print('list of values in hash table:',hash_table)\n",
    "    print('------------------------------------------------------------')\n",
    "    empty=0\n",
    "    c=[]\n",
    "    for l in range(len(hash_table)):\n",
    "        c.append(len(hash_table[l]))\n",
    "        if len(hash_table[l])==0:\n",
    "            \n",
    "            empty=empty+1\n",
    "    print('number of empty cell:', empty)        \n",
    "    print('--------------------------------------------------------------')\n",
    "    print('value of length of list:',c)\n",
    "    x=statistics.variance(c)\n",
    "    print('varience of list:',x)\n",
    "    print('---------------------------------------------------------------')\n",
    "    plt.hist(c)\n",
    "    plt.show()\n",
    "\n",
    "   "
   ]
  },
  {
   "cell_type": "code",
   "execution_count": 5,
   "metadata": {},
   "outputs": [
    {
     "name": "stdout",
     "output_type": "stream",
     "text": [
      "list of hashed key values: [2, 8, 8, 1, 7, 5, 4, 1, 0, 4, 5, 0, 8, 1, 5, 4, 8, 8, 1, 9, 0, 2, 3, 7, 2, 8, 6, 2, 9, 3, 3, 9, 6, 4, 3, 3, 6, 3, 2, 7, 3, 5, 3, 6, 5, 4, 1, 1, 1, 5, 6, 0, 7, 6, 2, 8, 9, 6, 8, 6, 6, 4, 0, 9, 7, 7, 8, 2, 2, 6, 1, 8, 4, 9, 6, 1, 2, 0, 2, 9, 1, 3, 9, 3, 3, 2, 1, 8, 7, 4, 8, 7, 1, 0, 9, 7, 0, 5, 8, 5]\n",
      "------------------------------------------------------------\n",
      "list of values in hash table: [[5592, 1314, 4126, 4736, 6244, 9294, 5613, 9286], [5055, 2437, 5110, 2183, 6631, 1636, 1416, 9359, 641, 4712, 2335, 9634], [5479, 625, 1209, 6149, 1214, 3340, 6293, 9275, 8152, 7424, 8296], [1185, 4955, 185, 1863, 2468, 9966, 1727, 5455, 6361, 5654, 6251], [4913, 1732, 279, 6722, 4240, 1808, 8510, 6735], [4355, 9481, 4177, 8439, 5533, 8083, 1996, 9900], [9494, 2077, 3250, 7135, 2412, 3297, 3538, 2043, 700, 3920, 2784], [7585, 5297, 671, 8826, 8690, 773, 9525, 2993, 4687], [4040, 291, 6014, 9339, 9538, 846, 1066, 5726, 435, 592, 2019, 2998, 3184], [8459, 3799, 8370, 2859, 7781, 5998, 144, 1385, 7705]]\n",
      "------------------------------------------------------------\n",
      "number of empty cell: 0\n",
      "--------------------------------------------------------------\n",
      "value of length of list: [8, 12, 11, 11, 8, 8, 11, 9, 13, 9]\n",
      "varience of list: 3.3333333333333335\n",
      "---------------------------------------------------------------\n"
     ]
    },
    {
     "data": {
      "image/png": "[encoded data removed]",
      "text/plain": [
       "<Figure size 432x288 with 1 Axes>"
      ]
     },
     "metadata": {
      "needs_background": "light"
     },
     "output_type": "display_data"
    }
   ],
   "source": [
    "k=keys\n",
    "\n",
    "m=10\n",
    "A= ((5**.5)-1)/2\n",
    "ob=hashit(k,A,m,hashf1)"
   ]
  },
  {
   "cell_type": "code",
   "execution_count": null,
   "metadata": {},
   "outputs": [],
   "source": [
    "variance_of_len="
   ]
  },
  {
   "cell_type": "code",
   "execution_count": 6,
   "metadata": {},
   "outputs": [
    {
     "name": "stdout",
     "output_type": "stream",
     "text": [
      "list of hashed key values: [7, 3, 3, 7, 4, 2, 4, 0, 9, 8, 2, 0, 9, 5, 0, 0, 8, 0, 0, 1, 3, 2, 4, 5, 0, 9, 0, 6, 1, 4, 8, 5, 5, 6, 4, 2, 6, 1, 6, 3, 2, 6, 2, 8, 0, 0, 9, 6, 4, 2, 9, 7, 2, 3, 8, 1, 9, 4, 1, 7, 5, 6, 3, 1, 0, 7, 7, 0, 3, 5, 3, 9, 8, 5, 6, 6, 3, 3, 1, 3, 1, 6, 1, 4, 0, 7, 6, 1, 2, 4, 7, 1, 3, 9, 3, 1, 1, 1, 1, 6]\n",
      "------------------------------------------------------------\n",
      "list of values in hash table: [[2437, 1314, 4177, 279, 9538, 2183, 1209, 9494, 5533, 4240, 8690, 6293, 6251], [8459, 3799, 9966, 1066, 5726, 7781, 7424, 4712, 1385, 2019, 2993, 4687, 9286, 1996, 3184], [4355, 9481, 625, 2468, 1727, 5455, 8083, 8826, 9525], [4040, 291, 4126, 671, 3297, 6244, 9275, 9359, 8152, 9294, 144, 9634, 7705], [7585, 4913, 1185, 4955, 1863, 1416, 3538, 5654, 6735], [5110, 5297, 8370, 2077, 700, 3920, 5998], [6149, 6722, 3250, 1214, 8439, 1636, 1808, 2784, 641, 6361, 2335, 9900], [5479, 5055, 4736, 2043, 773, 435, 8296, 2998], [1732, 9339, 185, 7135, 3340, 8510], [5592, 6014, 846, 6631, 2412, 2859, 592, 5613]]\n",
      "------------------------------------------------------------\n",
      "number of empty cell: 0\n",
      "--------------------------------------------------------------\n",
      "value of length of list: [13, 15, 9, 13, 9, 7, 12, 8, 6, 8]\n",
      "varience of list: 9.11111111111111\n",
      "---------------------------------------------------------------\n"
     ]
    },
    {
     "data": {
      "image/png": "[encoded data removed]",
      "text/plain": [
       "<Figure size 432x288 with 1 Axes>"
      ]
     },
     "metadata": {
      "needs_background": "light"
     },
     "output_type": "display_data"
    }
   ],
   "source": [
    "import math\n",
    "x=math.pi\n",
    "A=x/6 \n",
    "part2_ob=hashit(k,A,m,hashf1)"
   ]
  },
  {
   "cell_type": "code",
   "execution_count": 7,
   "metadata": {},
   "outputs": [
    {
     "name": "stdout",
     "output_type": "stream",
     "text": [
      "list of hashed key values: [61, 8, 39, 15, 25, 8, 62, 43, 48, 31, 31, 54, 29, 7, 19, 27, 15, 25, 41, 17, 31, 58, 51, 5, 12, 27, 44, 38, 19, 41, 59, 54, 61, 44, 36, 11, 37, 12, 17, 41, 26, 60, 37, 16, 52, 19, 16, 61, 30, 19, 18, 11, 6, 21, 1, 58, 24, 10, 56, 27, 7, 44, 7, 32, 59, 17, 57, 56, 14, 14, 35, 25, 5, 13, 12, 11, 25, 33, 53, 18, 50, 61, 62, 47, 14, 43, 4, 3, 12, 57, 37, 32, 58, 6, 19, 25, 25, 43, 34, 9]\n",
      "------------------------------------------------------------\n",
      "list of values in hash table: [[], [3340], [], [2019], [2335], [5297, 8510], [8826, 5613], [5110, 700, 6244], [4040, 4355], [9900], [3538], [2468, 4736, 641], [1209, 9966, 2784, 9525], [5998], [9275, 3920, 6251], [5055, 9339], [7135, 6631], [8459, 1214, 773], [2412, 144], [4177, 3799, 4240, 8083, 7705], [], [3297], [], [], [2859], [7585, 9538, 592, 8152, 4687, 9286], [1727], [279, 846, 2043], [], [6014], [1416], [1732, 9481, 4126], [7781, 2993], [9294], [3184], [9359], [1863], [3250, 5455, 2998], [6149], [291], [], [2183, 4955, 671], [], [2437, 8296, 1996], [9494, 6722, 1808], [], [], [5654], [5592], [], [4712], [1185], [5533], [7424], [1314, 8370], [], [5726, 6293], [435, 6735], [625, 1066, 9634], [185, 8690], [8439], [5479, 2077, 1636, 6361], [4913, 1385]]\n",
      "------------------------------------------------------------\n",
      "number of empty cell: 12\n",
      "--------------------------------------------------------------\n",
      "value of length of list: [0, 1, 0, 1, 1, 2, 2, 3, 2, 1, 1, 3, 4, 1, 3, 2, 2, 3, 2, 5, 0, 1, 0, 0, 1, 6, 1, 3, 0, 1, 1, 3, 2, 1, 1, 1, 1, 3, 1, 1, 0, 3, 0, 3, 3, 0, 0, 1, 1, 0, 1, 1, 1, 1, 2, 0, 2, 2, 3, 2, 1, 4, 2]\n",
      "varience of list: 1.6979006656426012\n",
      "---------------------------------------------------------------\n"
     ]
    },
    {
     "data": {
      "image/png": "[encoded data removed]",
      "text/plain": [
       "<Figure size 432x288 with 1 Axes>"
      ]
     },
     "metadata": {
      "needs_background": "light"
     },
     "output_type": "display_data"
    }
   ],
   "source": [
    "k=keys\n",
    "A= ((5**.5)-1)/2\n",
    "m=63\n",
    "part3_ob=hashit(k,A,m,hashf2)"
   ]
  },
  {
   "cell_type": "code",
   "execution_count": null,
   "metadata": {
    "scrolled": true
   },
   "outputs": [],
   "source": []
  },
  {
   "cell_type": "code",
   "execution_count": null,
   "metadata": {},
   "outputs": [],
   "source": []
  },
  {
   "cell_type": "code",
   "execution_count": null,
   "metadata": {},
   "outputs": [],
   "source": []
  },
  {
   "cell_type": "code",
   "execution_count": null,
   "metadata": {},
   "outputs": [],
   "source": []
  },
  {
   "cell_type": "code",
   "execution_count": null,
   "metadata": {},
   "outputs": [],
   "source": []
  },
  {
   "cell_type": "code",
   "execution_count": null,
   "metadata": {},
   "outputs": [],
   "source": []
  },
  {
   "cell_type": "code",
   "execution_count": null,
   "metadata": {},
   "outputs": [],
   "source": []
  },
  {
   "cell_type": "code",
   "execution_count": 54,
   "metadata": {},
   "outputs": [],
   "source": [
    "\n",
    "        \n",
    "    \n",
    "    \n",
    "    "
   ]
  },
  {
   "cell_type": "code",
   "execution_count": null,
   "metadata": {},
   "outputs": [],
   "source": []
  },
  {
   "cell_type": "code",
   "execution_count": null,
   "metadata": {},
   "outputs": [],
   "source": []
  },
  {
   "cell_type": "code",
   "execution_count": null,
   "metadata": {},
   "outputs": [],
   "source": []
  },
  {
   "cell_type": "code",
   "execution_count": null,
   "metadata": {},
   "outputs": [],
   "source": []
  },
  {
   "cell_type": "code",
   "execution_count": null,
   "metadata": {},
   "outputs": [],
   "source": [
    "    "
   ]
  },
  {
   "cell_type": "code",
   "execution_count": 50,
   "metadata": {},
   "outputs": [],
   "source": []
  },
  {
   "cell_type": "code",
   "execution_count": null,
   "metadata": {},
   "outputs": [],
   "source": []
  }
 ],
 "metadata": {
  "kernelspec": {
   "display_name": "Python 3",
   "language": "python",
   "name": "python3"
  },
  "language_info": {
   "codemirror_mode": {
    "name": "ipython",
    "version": 3
   },
   "file_extension": ".py",
   "mimetype": "text/x-python",
   "name": "python",
   "nbconvert_exporter": "python",
   "pygments_lexer": "ipython3",
   "version": "3.7.3"
  }
 },
 "nbformat": 4,
 "nbformat_minor": 2
}
