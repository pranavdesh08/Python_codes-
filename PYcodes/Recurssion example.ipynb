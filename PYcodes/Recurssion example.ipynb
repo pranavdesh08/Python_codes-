{
 "cells": [
  {
   "cell_type": "code",
   "execution_count": 14,
   "metadata": {},
   "outputs": [],
   "source": [
    "houses = [\"Eric's house\", \"Kenny's house\", \"Kyle's house\", \"Stan's house\"]\n",
    "\n",
    "# Each function call represents an elf doing his work \n",
    "def deliver_presents_recursively(houses):\n",
    "    # Worker elf doing his work\n",
    "    if len(houses) == 1:\n",
    "        house = houses[0]\n",
    "        print(\"Delivering presents to\", house)\n",
    "\n",
    "    # Manager elf doing his work\n",
    "    else:\n",
    "        mid = len(houses) // 2\n",
    "        first_half = houses[:mid]\n",
    "        second_half = houses[mid:]\n",
    "\n",
    "        # Divides his work among two elves\n",
    "        deliver_presents_recursively(first_half)\n",
    "        deliver_presents_recursively(second_half)\n",
    "        "
   ]
  },
  {
   "cell_type": "code",
   "execution_count": 15,
   "metadata": {},
   "outputs": [
    {
     "name": "stdout",
     "output_type": "stream",
     "text": [
      "Delivering presents to Eric's house\n",
      "Delivering presents to Kenny's house\n",
      "Delivering presents to Kyle's house\n",
      "Delivering presents to Stan's house\n"
     ]
    }
   ],
   "source": [
    "deliver_presents_recursively(houses)"
   ]
  },
  {
   "cell_type": "code",
   "execution_count": 8,
   "metadata": {},
   "outputs": [
    {
     "data": {
      "text/plain": [
       "[4, 5, 6, 7]"
      ]
     },
     "execution_count": 8,
     "metadata": {},
     "output_type": "execute_result"
    }
   ],
   "source": [
    "l=[4,5,6,7]\n",
    "l[0:]\n"
   ]
  },
  {
   "cell_type": "code",
   "execution_count": null,
   "metadata": {},
   "outputs": [],
   "source": [
    "Pol=[]"
   ]
  }
 ],
 "metadata": {
  "kernelspec": {
   "display_name": "Python 3",
   "language": "python",
   "name": "python3"
  },
  "language_info": {
   "codemirror_mode": {
    "name": "ipython",
    "version": 3
   },
   "file_extension": ".py",
   "mimetype": "text/x-python",
   "name": "python",
   "nbconvert_exporter": "python",
   "pygments_lexer": "ipython3",
   "version": "3.7.3"
  }
 },
 "nbformat": 4,
 "nbformat_minor": 2
}
