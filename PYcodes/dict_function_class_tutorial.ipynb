{
 "cells": [
  {
   "cell_type": "markdown",
   "metadata": {},
   "source": [
    "# Dictionary\n",
    "\n",
    "Dictionary contains information in a key, value pair. The keys and values are separated using a colon \":\". A pair of key:value is separated using a comma \",\".\n",
    "The key, value can be an integer, a string or a combination of integer and string. \n",
    "Dictionary is enclosed using a {} brackets.\n",
    "Dictionary can be updated and key, values can be changed in it.\n",
    "Value can be obtained by using the key.\n",
    "To see the key .key() function is used and for values .values() function is used.\n",
    "DEleting key in dictionary deletes value.\n"
   ]
  },
  {
   "cell_type": "markdown",
   "metadata": {},
   "source": [
    "# Creating dictionary.\n",
    "# Print the created dictionary."
   ]
  },
  {
   "cell_type": "code",
   "execution_count": 3,
   "metadata": {},
   "outputs": [
    {
     "name": "stdout",
     "output_type": "stream",
     "text": [
      "{'gerrard': 'soccer', 'Nadal': 'tennis', 'Apple': 'fruit'}\n"
     ]
    }
   ],
   "source": [
    "my_dictionary={'gerrard':'soccer','Nadal':'tennis','Apple':'fruit'}\n",
    "print(my_dictionary)"
   ]
  },
  {
   "cell_type": "markdown",
   "metadata": {},
   "source": [
    "# Adding an element to the dictionary.\n",
    "# Print the updated dictionary. "
   ]
  },
  {
   "cell_type": "code",
   "execution_count": 6,
   "metadata": {},
   "outputs": [
    {
     "name": "stdout",
     "output_type": "stream",
     "text": [
      "{'gerrard': 'soccer', 'Nadal': 'tennis', 'Apple': 'fruit', 'one': 1}\n"
     ]
    }
   ],
   "source": [
    "my_dictionary['one']=1\n",
    "print(my_dictionary)"
   ]
  },
  {
   "cell_type": "markdown",
   "metadata": {},
   "source": [
    "# Change the values in the current dictionary.\n",
    "# Print the updated dictionary."
   ]
  },
  {
   "cell_type": "code",
   "execution_count": 5,
   "metadata": {},
   "outputs": [
    {
     "name": "stdout",
     "output_type": "stream",
     "text": [
      "{'gerrard': 'soccer', 'Nadal': 'tennis', 'Apple': 'fruit', 'one': '55'}\n"
     ]
    }
   ],
   "source": [
    "my_dictionary['one']='55'\n",
    "print(my_dictionary)"
   ]
  },
  {
   "cell_type": "markdown",
   "metadata": {},
   "source": [
    "# obtaining values using key."
   ]
  },
  {
   "cell_type": "code",
   "execution_count": 11,
   "metadata": {},
   "outputs": [
    {
     "data": {
      "text/plain": [
       "'soccer'"
      ]
     },
     "execution_count": 11,
     "metadata": {},
     "output_type": "execute_result"
    }
   ],
   "source": [
    "my_dictionary['gerrard']"
   ]
  },
  {
   "cell_type": "markdown",
   "metadata": {},
   "source": [
    "# To see the keys and values using function."
   ]
  },
  {
   "cell_type": "code",
   "execution_count": 22,
   "metadata": {},
   "outputs": [
    {
     "data": {
      "text/plain": [
       "dict_keys(['gerrard', 'Nadal', 'Apple'])"
      ]
     },
     "execution_count": 22,
     "metadata": {},
     "output_type": "execute_result"
    }
   ],
   "source": [
    "my_dictionary={'gerrard':'soccer','Nadal':'tennis','Apple':'fruit'}\n",
    "my_dictionary.keys()"
   ]
  },
  {
   "cell_type": "code",
   "execution_count": 23,
   "metadata": {},
   "outputs": [
    {
     "name": "stdout",
     "output_type": "stream",
     "text": [
      "dict_values(['soccer', 'tennis', 'fruit'])\n",
      "{'gerrard': 'soccer', 'Nadal': 'tennis', 'Apple': 'fruit'}\n"
     ]
    }
   ],
   "source": [
    "print(my_dictionary.values())\n",
    "\n",
    "print(my_dictionary)"
   ]
  },
  {
   "cell_type": "markdown",
   "metadata": {},
   "source": [
    "# Delete a key:value pair"
   ]
  },
  {
   "cell_type": "code",
   "execution_count": 24,
   "metadata": {},
   "outputs": [
    {
     "name": "stdout",
     "output_type": "stream",
     "text": [
      "{'Nadal': 'tennis', 'Apple': 'fruit'}\n"
     ]
    }
   ],
   "source": [
    "del my_dictionary['gerrard']\n",
    "print(my_dictionary)"
   ]
  },
  {
   "cell_type": "markdown",
   "metadata": {},
   "source": [
    "# Clear all the items from the list  "
   ]
  },
  {
   "cell_type": "code",
   "execution_count": 25,
   "metadata": {},
   "outputs": [
    {
     "name": "stdout",
     "output_type": "stream",
     "text": [
      "{}\n"
     ]
    }
   ],
   "source": [
    "my_dictionary.clear()\n",
    "print(my_dictionary)"
   ]
  },
  {
   "cell_type": "markdown",
   "metadata": {},
   "source": [
    "# Change the view of a dictionary.\n",
    "\n",
    "# Change the dictionary to list of tuple."
   ]
  },
  {
   "cell_type": "code",
   "execution_count": 26,
   "metadata": {},
   "outputs": [],
   "source": [
    "new_dictionary={11:'New York',22 : 'New Jersey',33 : 'Florida',44: 'Arizona'}"
   ]
  },
  {
   "cell_type": "code",
   "execution_count": 27,
   "metadata": {},
   "outputs": [
    {
     "data": {
      "text/plain": [
       "dict_items([(11, 'New York'), (22, 'New Jersey'), (33, 'Florida'), (44, 'Arizona')])"
      ]
     },
     "execution_count": 27,
     "metadata": {},
     "output_type": "execute_result"
    }
   ],
   "source": [
    "new_dictionary.items()"
   ]
  },
  {
   "cell_type": "markdown",
   "metadata": {},
   "source": [
    "# Dictionary can be used to store the passwords using hash function. \n",
    "\n",
    "# It gives the hash value of the password."
   ]
  },
  {
   "cell_type": "code",
   "execution_count": 30,
   "metadata": {},
   "outputs": [
    {
     "name": "stdout",
     "output_type": "stream",
     "text": [
      "{1: -5792294390453492464}\n"
     ]
    }
   ],
   "source": [
    "protect={}\n",
    "protect[1]=hash('aa')\n",
    "print(protect)"
   ]
  },
  {
   "cell_type": "markdown",
   "metadata": {},
   "source": [
    "\n",
    "# Dictionary with multiple values for single key.\n",
    "\n",
    "# Print a single value from dictionary.\n",
    "\n",
    "# A single value can be obtained by using the index number of the multiple values."
   ]
  },
  {
   "cell_type": "code",
   "execution_count": 44,
   "metadata": {},
   "outputs": [],
   "source": [
    "new_dict={66:(\"New York\",\"NEw Jersey\"),55 : (\"USA\",\"France\",\"England\")}"
   ]
  },
  {
   "cell_type": "code",
   "execution_count": 46,
   "metadata": {},
   "outputs": [
    {
     "name": "stdout",
     "output_type": "stream",
     "text": [
      "USA\n"
     ]
    }
   ],
   "source": [
    "print(new_dict[55][0])"
   ]
  },
  {
   "cell_type": "markdown",
   "metadata": {},
   "source": [
    "# Iterate in a dictionary."
   ]
  },
  {
   "cell_type": "code",
   "execution_count": 47,
   "metadata": {},
   "outputs": [
    {
     "name": "stdout",
     "output_type": "stream",
     "text": [
      "{66: 'New York', 55: ('USA', 'France', 'England')}\n"
     ]
    }
   ],
   "source": [
    "print(new_dict)"
   ]
  },
  {
   "cell_type": "markdown",
   "metadata": {},
   "source": [
    "# Looping can be done easily using for loop."
   ]
  },
  {
   "cell_type": "code",
   "execution_count": 53,
   "metadata": {},
   "outputs": [
    {
     "name": "stdout",
     "output_type": "stream",
     "text": [
      "66 New York\n",
      "55 ('USA', 'France', 'England')\n"
     ]
    }
   ],
   "source": [
    "for i in new_dict:\n",
    "    \n",
    "    print(i,new_dict[i])"
   ]
  },
  {
   "cell_type": "markdown",
   "metadata": {},
   "source": [
    "# Functions\n",
    "\n",
    "There are 2 types of functions in Python: (a) Built-in functions (b) User-defined functions.\n",
    "\n",
    "(a) Built-in functions: These are available in Python and to use these fuctions we have to import them to our interpreter. In order to view the available built-in functions, type dir(__builtins__). This shows us all the available built-in functions. As Python is a open source language, it is also possible to view the source code of these functions. Some of the most common built-ins are print(), len(), input(), str(), chr(). \n",
    "\n",
    "# Using built-in functions.    "
   ]
  },
  {
   "cell_type": "code",
   "execution_count": 18,
   "metadata": {},
   "outputs": [
    {
     "name": "stdout",
     "output_type": "stream",
     "text": [
      "This is built-in function to print.\n",
      "5\n"
     ]
    }
   ],
   "source": [
    "print('This is built-in function to print.')\n",
    "print(str(5))\n",
    "\n"
   ]
  },
  {
   "cell_type": "markdown",
   "metadata": {},
   "source": [
    "\n",
    "(b) User-defined functions: These functions are created by the users itself. It is useful to manage a long code by dividing it into smaller functions. User-defined functions are defined using \"def\" followed by the function name. Inside the functions there are multiple statements. In order to execute the statements inside the function, it has to be called by sending arguments in it. The numbers of argument called should match the numbers of argument defined. There can also be a fix value assigned to a argument while defining a function. Function can be called multiple times by passing the arguments.   "
   ]
  },
  {
   "cell_type": "code",
   "execution_count": 19,
   "metadata": {},
   "outputs": [
    {
     "name": "stdout",
     "output_type": "stream",
     "text": [
      "15\n"
     ]
    }
   ],
   "source": [
    "# Fixed number of arguments.\n",
    "def yolo(a,b):\n",
    "    d=a+b\n",
    "    print(d)\n",
    "yolo(10,5)    "
   ]
  },
  {
   "cell_type": "code",
   "execution_count": 20,
   "metadata": {},
   "outputs": [
    {
     "name": "stdout",
     "output_type": "stream",
     "text": [
      "59\n"
     ]
    }
   ],
   "source": [
    "yolo(55,4)"
   ]
  },
  {
   "cell_type": "code",
   "execution_count": 21,
   "metadata": {},
   "outputs": [
    {
     "name": "stdout",
     "output_type": "stream",
     "text": [
      "18\n"
     ]
    }
   ],
   "source": [
    "#Variable number of arguments.\n",
    "def yolo(a,b=8):\n",
    "    d=a+b\n",
    "    print(d)\n",
    "yolo(10)\n"
   ]
  },
  {
   "cell_type": "code",
   "execution_count": 34,
   "metadata": {},
   "outputs": [
    {
     "name": "stdout",
     "output_type": "stream",
     "text": [
      "6\n",
      "65\n"
     ]
    }
   ],
   "source": [
    "yolo(4,2)\n",
    "def add(a,b):\n",
    "    print(a+b)\n",
    "a=10\n",
    "b=55\n",
    "add(a,b)"
   ]
  },
  {
   "cell_type": "code",
   "execution_count": 35,
   "metadata": {},
   "outputs": [
    {
     "name": "stdout",
     "output_type": "stream",
     "text": [
      "answer is 10\n"
     ]
    }
   ],
   "source": [
    "#Function calling itself.\n",
    "def rec(x):\n",
    "    if x==5:\n",
    "        return 0\n",
    "    else:\n",
    "        return (x+ rec(x+1))\n",
    "print('answer is',rec(1))    "
   ]
  },
  {
   "cell_type": "markdown",
   "metadata": {},
   "source": [
    "# Class\n",
    "\n",
    "As Python is an object oriented language, classes and objects can be used. To create a class 'class' followed by 'classname' is used. Oject is created using the classname. A class can include a function inside it. "
   ]
  },
  {
   "cell_type": "markdown",
   "metadata": {},
   "source": [
    "# Create a class.\n",
    "\n",
    "Below is a class syntax. After defining a class it contains statements in in.\n",
    "\n",
    "    \n",
    "    "
   ]
  },
  {
   "cell_type": "code",
   "execution_count": null,
   "metadata": {},
   "outputs": [],
   "source": [
    "\n",
    "class addclass:\n",
    "    a=\"This is a class.\"\n",
    "class Honey:\n",
    "    \"This is also a class.\""
   ]
  },
  {
   "cell_type": "markdown",
   "metadata": {},
   "source": [
    "Every class contains an __init__() function. It is called as constructor. It contains self parameter which is useful to access values in throughout the class. Along with self parameter the total number arguments should be entered. It is used to inistiate the values which can be used in further functions.\n",
    "\n",
    "\n",
    "Here add is a object create using class name. From here the values are given."
   ]
  },
  {
   "cell_type": "code",
   "execution_count": 33,
   "metadata": {},
   "outputs": [
    {
     "name": "stdout",
     "output_type": "stream",
     "text": [
      "10\n",
      "15\n",
      "10\n",
      "15\n"
     ]
    }
   ],
   "source": [
    "class addclass:\n",
    "    def __init__(self,a,b):\n",
    "        self.a=a\n",
    "        self.b=b\n",
    "        print(self.a)\n",
    "        print(self.b)\n",
    "        print(a)\n",
    "        print(b)\n",
    "add=addclass(10,15)        "
   ]
  },
  {
   "cell_type": "markdown",
   "metadata": {},
   "source": [
    "# Create a Method which has some statments to be executed.\n",
    "\n",
    "Here you have to create a Method which has statements inside it. It is a function created inside a class.\n"
   ]
  },
  {
   "cell_type": "code",
   "execution_count": 36,
   "metadata": {},
   "outputs": [
    {
     "name": "stdout",
     "output_type": "stream",
     "text": [
      "20\n"
     ]
    }
   ],
   "source": [
    "class addclass:\n",
    "    def __init__(self,a,b):\n",
    "        self.a=a\n",
    "        self.b=b\n",
    "    def addition(self):\n",
    "        print(self.a+self.b)\n",
    "Q=addclass(12,8)\n",
    "Q.addition()"
   ]
  },
  {
   "cell_type": "markdown",
   "metadata": {},
   "source": [
    "# Delete attribute and object"
   ]
  },
  {
   "cell_type": "code",
   "execution_count": 40,
   "metadata": {},
   "outputs": [
    {
     "name": "stdout",
     "output_type": "stream",
     "text": [
      "20\n"
     ]
    }
   ],
   "source": [
    "class addclass:\n",
    "    def __init__(self,a,b):\n",
    "        self.a=a\n",
    "        self.b=b\n",
    "    def addition(self):\n",
    "        print(self.a+self.b)\n",
    "Q=addclass(12,8)\n",
    "Q.addition()\n",
    "\n",
    "Q=addclass(12,8)\n",
    "del Q.b"
   ]
  },
  {
   "cell_type": "code",
   "execution_count": 43,
   "metadata": {},
   "outputs": [
    {
     "ename": "AttributeError",
     "evalue": "'addclass' object has no attribute 'b'",
     "output_type": "error",
     "traceback": [
      "\u001b[1;31m---------------------------------------------------------------------------\u001b[0m",
      "\u001b[1;31mAttributeError\u001b[0m                            Traceback (most recent call last)",
      "\u001b[1;32m<ipython-input-43-a6355323266f>\u001b[0m in \u001b[0;36m<module>\u001b[1;34m\u001b[0m\n\u001b[1;32m----> 1\u001b[1;33m \u001b[0mQ\u001b[0m\u001b[1;33m.\u001b[0m\u001b[0mb\u001b[0m\u001b[1;33m\u001b[0m\u001b[1;33m\u001b[0m\u001b[0m\n\u001b[0m",
      "\u001b[1;31mAttributeError\u001b[0m: 'addclass' object has no attribute 'b'"
     ]
    }
   ],
   "source": [
    "Q.b"
   ]
  },
  {
   "cell_type": "code",
   "execution_count": 44,
   "metadata": {},
   "outputs": [],
   "source": [
    "#Delete an object.\n",
    "del Q"
   ]
  },
  {
   "cell_type": "code",
   "execution_count": 45,
   "metadata": {},
   "outputs": [
    {
     "ename": "NameError",
     "evalue": "name 'Q' is not defined",
     "output_type": "error",
     "traceback": [
      "\u001b[1;31m---------------------------------------------------------------------------\u001b[0m",
      "\u001b[1;31mNameError\u001b[0m                                 Traceback (most recent call last)",
      "\u001b[1;32m<ipython-input-45-f257ae524af2>\u001b[0m in \u001b[0;36m<module>\u001b[1;34m\u001b[0m\n\u001b[1;32m----> 1\u001b[1;33m \u001b[0mQ\u001b[0m\u001b[1;33m\u001b[0m\u001b[1;33m\u001b[0m\u001b[0m\n\u001b[0m",
      "\u001b[1;31mNameError\u001b[0m: name 'Q' is not defined"
     ]
    }
   ],
   "source": [
    "Q"
   ]
  },
  {
   "cell_type": "markdown",
   "metadata": {},
   "source": [
    "# Inheritance\n",
    "\n",
    "It has a parent class and a child class. Parent class is a base class from which the child class inherite the method. In order to inherite the method from parent, it is necessary to create a parent class __init__ function in child class. The other way is to use super() function. "
   ]
  },
  {
   "cell_type": "code",
   "execution_count": 67,
   "metadata": {},
   "outputs": [
    {
     "name": "stdout",
     "output_type": "stream",
     "text": [
      "Remember A Day.\n"
     ]
    }
   ],
   "source": [
    "class addclass:\n",
    "    def __init__(self,a,b):\n",
    "        self.a=a\n",
    "        self.b=b\n",
    "    def addition(self):\n",
    "        return (self.a+self.b)\n",
    "\n",
    "        \n",
    "class childclass(addclass):\n",
    "    def __init__(self,a,b,c):\n",
    "        addclass.__init__(self,a,b)\n",
    "        self.c=c\n",
    "    def new_add(self):\n",
    "        print(self.addition()+self.c)\n",
    "\n",
    "\n",
    "W = childclass('Remember ','A ','Day.')\n",
    "\n",
    "W.new_add()"
   ]
  },
  {
   "cell_type": "markdown",
   "metadata": {},
   "source": [
    "# References\n",
    "\n",
    "https://www.w3schools.com/default.asp\n",
    "\n",
    "https://www.programiz.com\n",
    "\n",
    "https://www.python.org\n"
   ]
  },
  {
   "cell_type": "code",
   "execution_count": null,
   "metadata": {},
   "outputs": [],
   "source": []
  }
 ],
 "metadata": {
  "kernelspec": {
   "display_name": "Python 3",
   "language": "python",
   "name": "python3"
  },
  "language_info": {
   "codemirror_mode": {
    "name": "ipython",
    "version": 3
   },
   "file_extension": ".py",
   "mimetype": "text/x-python",
   "name": "python",
   "nbconvert_exporter": "python",
   "pygments_lexer": "ipython3",
   "version": "3.7.3"
  }
 },
 "nbformat": 4,
 "nbformat_minor": 2
}
