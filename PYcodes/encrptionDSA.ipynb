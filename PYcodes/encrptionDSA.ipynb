{
 "cells": [
  {
   "cell_type": "code",
   "execution_count": 1,
   "metadata": {},
   "outputs": [
    {
     "name": "stdout",
     "output_type": "stream",
     "text": [
      "9721\n",
      "5753\n"
     ]
    }
   ],
   "source": [
    "#Question 2\n",
    "lett_num={'a':2,'b':3,'c':4,'d':5,'e':6,'f':7,'g':8,'h':9,'i':10,'j':11,'k':12,'l':13,'m':14,'n':15,'o':16,'p':17,'q':18,\n",
    "         'r':19,'s':20,'t':21,'u':22,'v':23,'w':24,'x':25,'y':26,'z':27,' ':28}\n",
    "num_lett={2:'a',3:'b',4:'c',5:'d',6:'e',7:'f',8:'g',9:'h',10:'i',11:'j',12:'k',13:'l',14:'m',15:'n',16:'o',17:'p',18:'q',\n",
    "         19:'r',20:'s',21:'t',22:'u',23:'v',24:'w',25:'x',26:'y',27:'z',28:' '}\n",
    "p_prime_alice= 97\n",
    "q_prime_alice=113\n",
    "p_prime_bob= 127\n",
    "q_prime_bob= 73\n",
    "\n",
    "n_alice= p_prime_alice * q_prime_alice\n",
    "n_bob= p_prime_bob * q_prime_bob\n",
    "# print(n_bob)\n",
    "# print(n_alice)\n",
    "euler_alice= (p_prime_alice - 1) * (q_prime_alice - 1)\n",
    "# print(euler_alice)\n",
    "euler_bob= (p_prime_bob - 1) * (q_prime_bob - 1)\n",
    "# print(euler_bob)\n",
    "\n",
    "public_alice= 73\n",
    "public_bob= 41\n",
    "\n",
    "#to find PRIVATE keys for bob and alice\n",
    "\n",
    "def extended_gcd(m,n):\n",
    "    if n==0:\n",
    "        return (1,0,m)\n",
    "    if n==1:\n",
    "        return (0,1,1)\n",
    "    Q=[]\n",
    "    d=1\n",
    "    a=m \n",
    "    b=n\n",
    "    while True:\n",
    "        r= a % b\n",
    "        quo= a / b\n",
    "        Q.append(int(quo))\n",
    "        if r==0:\n",
    "            d=b\n",
    "            \n",
    "            break\n",
    "        tmp=b\n",
    "        b= a%b\n",
    "        a=tmp\n",
    "    x=1\n",
    "    y=0 \n",
    "    s= len(Q)\n",
    "    for i in range(s):\n",
    "        tmp=y\n",
    "        y=x-y* Q.pop()\n",
    "        x=tmp\n",
    "    \n",
    "    if y<0:\n",
    "        y= m+y\n",
    "    return(y)    \n",
    "\n",
    "alice_secret=extended_gcd(euler_alice,public_alice)\n",
    "print(alice_secret)\n",
    "\n",
    "bob_secret=extended_gcd(euler_bob,public_bob)\n",
    "print(bob_secret)\n",
    "\n",
    "    "
   ]
  },
  {
   "cell_type": "code",
   "execution_count": 2,
   "metadata": {},
   "outputs": [
    {
     "name": "stdout",
     "output_type": "stream",
     "text": [
      "['b', 'u', 'y', ' ', 'g', 'o', 'o', 'g', 'l', 'e']\n",
      "08346045480769402137011590127801278011590853008491\n"
     ]
    }
   ],
   "source": [
    "#encrypt the message sent by bob using bob's secret key\n",
    "x='buy google'\n",
    "# y='bob'\n",
    "c=[]\n",
    "#concat=''\n",
    "def encode(x,c):\n",
    "    for i in x:\n",
    "        c.append(i)\n",
    "    print(c)  \n",
    "    concat=''\n",
    "    for letter in c:\n",
    "        l=lett_num[letter]\n",
    "        message= str(l**bob_secret % n_bob)\n",
    "        if(len(message)!= 5):\n",
    "            for a in range(5-len(message)):\n",
    "                message = '0' + message\n",
    "        concat += str(message)\n",
    "    return concat\n",
    "\n",
    "\n",
    "#         print(concat)        \n",
    "encode1=encode(x,c)\n",
    "print(encode1)"
   ]
  },
  {
   "cell_type": "code",
   "execution_count": 3,
   "metadata": {},
   "outputs": [
    {
     "name": "stdout",
     "output_type": "stream",
     "text": [
      "008700816400870\n"
     ]
    }
   ],
   "source": [
    "#bob add is signature or name using alice's public key\n",
    "z=[]\n",
    "x1='bob'\n",
    "def encodesign(x1,z):\n",
    "    for i in x1:\n",
    "        z.append(i) \n",
    "    concat=''\n",
    "    for letter in z:\n",
    "        l=lett_num[letter]\n",
    "        message= str(l**public_alice % n_alice)\n",
    "        if(len(message)!= 5):\n",
    "            for a in range(5-len(message)):\n",
    "                message = '0' + message\n",
    "        concat += str(message)\n",
    "    return concat\n",
    "    \n",
    "encode2=encodesign(x1,z)\n",
    "print(encode2)"
   ]
  },
  {
   "cell_type": "code",
   "execution_count": 4,
   "metadata": {},
   "outputs": [
    {
     "name": "stdout",
     "output_type": "stream",
     "text": [
      "08346045480769402137011590127801278011590853008491008700816400870\n"
     ]
    }
   ],
   "source": [
    "#message along with the signature\n",
    "encode_message_with_bob_sign= encode1 + encode2\n",
    "print(encode_message_with_bob_sign)"
   ]
  },
  {
   "cell_type": "code",
   "execution_count": 5,
   "metadata": {},
   "outputs": [
    {
     "name": "stdout",
     "output_type": "stream",
     "text": [
      "['08346', '04548', '07694', '02137', '01159', '01278', '01278', '01159', '08530', '08491', '00870', '08164', '00870']\n"
     ]
    }
   ],
   "source": [
    "a=len(str(encode_message_with_bob_sign))\n",
    "j=5\n",
    "i=0\n",
    "d=[]\n",
    "while a>0:\n",
    "    x=encode_message_with_bob_sign[i:j]\n",
    "    d.append(x)\n",
    "    j+=5\n",
    "    i+=5\n",
    "    a-=5\n",
    "print(d)  "
   ]
  },
  {
   "cell_type": "code",
   "execution_count": 6,
   "metadata": {},
   "outputs": [
    {
     "name": "stdout",
     "output_type": "stream",
     "text": [
      "b\n",
      "o\n",
      "b\n"
     ]
    }
   ],
   "source": [
    "#alice using her private key to see the message\n",
    "c=0\n",
    "for i in reversed(d):\n",
    "    i=int(i)\n",
    "    decode_letter=i**alice_secret % n_alice\n",
    "    print(num_lett[decode_letter])\n",
    "    c+=1\n",
    "    if c==3:\n",
    "        break"
   ]
  },
  {
   "cell_type": "code",
   "execution_count": 7,
   "metadata": {},
   "outputs": [
    {
     "name": "stdout",
     "output_type": "stream",
     "text": [
      "b\n",
      "u\n",
      "y\n",
      " \n",
      "g\n",
      "o\n",
      "o\n",
      "g\n",
      "l\n",
      "e\n"
     ]
    }
   ],
   "source": [
    "#after seeing the message is from bob she uses bob's public key to read the message\n",
    "n=0\n",
    "for i in d:\n",
    "    i=int(i)\n",
    "    decode_letter=i**public_bob % n_bob\n",
    "#     print(decode_letter)\n",
    "    print(num_lett[decode_letter])\n",
    "    n+=1\n",
    "    if n==10:\n",
    "        break\n",
    "    "
   ]
  },
  {
   "cell_type": "code",
   "execution_count": null,
   "metadata": {},
   "outputs": [],
   "source": []
  }
 ],
 "metadata": {
  "kernelspec": {
   "display_name": "Python 3",
   "language": "python",
   "name": "python3"
  },
  "language_info": {
   "codemirror_mode": {
    "name": "ipython",
    "version": 3
   },
   "file_extension": ".py",
   "mimetype": "text/x-python",
   "name": "python",
   "nbconvert_exporter": "python",
   "pygments_lexer": "ipython3",
   "version": "3.7.3"
  }
 },
 "nbformat": 4,
 "nbformat_minor": 2
}
