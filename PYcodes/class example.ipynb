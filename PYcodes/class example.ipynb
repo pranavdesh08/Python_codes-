{
 "cells": [
  {
   "cell_type": "code",
   "execution_count": 5,
   "metadata": {},
   "outputs": [
    {
     "name": "stdout",
     "output_type": "stream",
     "text": [
      "Calling the C Constructor\n",
      "Calling the C Method\n",
      "Calling the P Method\n",
      "Parent attribute : 200\n"
     ]
    }
   ],
   "source": [
    "class Parent: \n",
    "   parentAttribute = 1000\n",
    "   def __init__(self):\n",
    "      print(\"Calling the P Constructor\")\n",
    "\n",
    "   def parentMethod(self):\n",
    "      print('Calling the P Method')\n",
    "\n",
    "   def setAttr(self, attr):\n",
    "      Parent.parentAttribute = attr\n",
    "\n",
    "   def getAttr(self):\n",
    "      print (\"Parent attribute :\", Parent.parentAttribute)\n",
    "\n",
    "class Child(Parent):\n",
    "   def __init__(self):\n",
    "      print ('Calling the C Constructor')\n",
    "\n",
    "   def childMethod(self):\n",
    "      print ('Calling the C Method')\n",
    "\n",
    "c = Child()          \n",
    "c.childMethod()      \n",
    "c.parentMethod()    \n",
    "c.setAttr(200)  \n",
    "c.getAttr()\n"
   ]
  }
 ],
 "metadata": {
  "kernelspec": {
   "display_name": "Python 3",
   "language": "python",
   "name": "python3"
  },
  "language_info": {
   "codemirror_mode": {
    "name": "ipython",
    "version": 3
   },
   "file_extension": ".py",
   "mimetype": "text/x-python",
   "name": "python",
   "nbconvert_exporter": "python",
   "pygments_lexer": "ipython3",
   "version": "3.7.3"
  }
 },
 "nbformat": 4,
 "nbformat_minor": 2
}
